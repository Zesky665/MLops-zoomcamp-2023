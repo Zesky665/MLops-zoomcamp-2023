{
 "cells": [
  {
   "cell_type": "code",
   "execution_count": null,
   "metadata": {},
   "outputs": [],
   "source": [
    "from utils.preprocessiong_data import run_data_prep"
   ]
  },
  {
   "cell_type": "code",
   "execution_count": null,
   "metadata": {},
   "outputs": [],
   "source": [
    "run_data_prep(\"data\",\"preped_dataset\",\"green\")"
   ]
  }
 ],
 "metadata": {
  "kernelspec": {
   "display_name": "mlops",
   "language": "python",
   "name": "python3"
  },
  "language_info": {
   "name": "python",
   "version": "3.8.10"
  },
  "orig_nbformat": 4,
  "vscode": {
   "interpreter": {
    "hash": "b9bd0c79e29115094bf459dabcfebe29a841d2d7757d8d863b74350fc78974c1"
   }
  }
 },
 "nbformat": 4,
 "nbformat_minor": 2
}
